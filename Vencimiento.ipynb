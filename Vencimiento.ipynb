{
 "cells": [
  {
   "cell_type": "code",
   "execution_count": 1,
   "metadata": {},
   "outputs": [],
   "source": [
    "import win32com.client as win32ComClient\n",
    "\n",
    "if __name__ == \"__main__\":\n",
    "    try:\n",
    "        dbName = \"Ejemplo-Detalle de ventas.IMD\"\n",
    "        idea = win32ComClient.Dispatch(dispatch=\"Idea.IdeaClient\")\n",
    "        db = idea.OpenDatabase(dbName)\n",
    "        task = db.Aging()\n",
    "\n",
    "        task.Info(\"2015/12/31\", \"FECHA_FACT\", \"TOTAL\")\n",
    "        task.IntervalTypeIndex = 0\n",
    "        task.Intervals(\"30\", \"60\", \"90\", \"120\", \"150\", \"180\")\n",
    "\n",
    "        resultDbName = \"Vencimiento_01.IMD\"\n",
    "        task.CreateAgeDB(resultDbName,\"\")\n",
    "        task.IncludeAllFields\n",
    "        task.CreateVirtualDatabase = False\n",
    "\n",
    "        task.PerformTask()\n",
    "        idea.OpenDatabase(resultDbName)\n",
    "    finally:\n",
    "        task = None\n",
    "        db = None\n",
    "        idea = None\n"
   ]
  },
  {
   "cell_type": "code",
   "execution_count": null,
   "metadata": {},
   "outputs": [],
   "source": []
  }
 ],
 "metadata": {
  "kernelspec": {
   "display_name": "Python 3",
   "language": "python",
   "name": "python3"
  },
  "language_info": {
   "codemirror_mode": {
    "name": "ipython",
    "version": 3
   },
   "file_extension": ".py",
   "mimetype": "text/x-python",
   "name": "python",
   "nbconvert_exporter": "python",
   "pygments_lexer": "ipython3",
   "version": "3.7.6"
  }
 },
 "nbformat": 4,
 "nbformat_minor": 4
}
